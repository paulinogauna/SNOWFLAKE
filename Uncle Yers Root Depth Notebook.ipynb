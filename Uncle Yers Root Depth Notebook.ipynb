{
 "metadata": {
  "kernelspec": {
   "display_name": "Streamlit Notebook",
   "name": "streamlit"
  },
  "lastEditStatus": {
   "notebookId": "dee6t44ma4222dxbdhvm",
   "authorId": "705554934010",
   "authorName": "PAULINOGAUNA",
   "authorEmail": "paulino.gauna@gmail.com",
   "sessionId": "cd44b847-7ec1-4701-b258-4f3cc7913532",
   "lastEditTime": 1746189313138
  }
 },
 "nbformat_minor": 5,
 "nbformat": 4,
 "cells": [
  {
   "cell_type": "markdown",
   "id": "3775908f-ca36-4846-8f38-5adca39217f2",
   "metadata": {
    "name": "title_cell",
    "collapsed": false
   },
   "source": "# titulo"
  },
  {
   "cell_type": "code",
   "id": "e5356e43-b610-4aba-a987-17f2e1ca842e",
   "metadata": {
    "language": "sql",
    "name": "set_root_depth_code"
   },
   "outputs": [],
   "source": "set rdc = 'M';",
   "execution_count": null
  },
  {
   "cell_type": "code",
   "id": "623ceb81-b280-4c51-860c-428550337840",
   "metadata": {
    "language": "sql",
    "name": "set_flower_name"
   },
   "outputs": [],
   "source": "set fn = 'Tulip';",
   "execution_count": null
  },
  {
   "cell_type": "code",
   "id": "ecb05571-7a53-41e1-84e8-5b24f5519ea9",
   "metadata": {
    "language": "sql",
    "name": "check_my_variables"
   },
   "outputs": [],
   "source": "select $fn, $rdc;",
   "execution_count": null
  },
  {
   "cell_type": "code",
   "id": "36d3b15f-7c73-43f4-be82-a5f101c7e6ad",
   "metadata": {
    "language": "sql",
    "name": "insert_row"
   },
   "outputs": [],
   "source": "insert into garden_plants.flowers.flower_details\nselect $fn , $rdc;",
   "execution_count": null
  },
  {
   "cell_type": "code",
   "id": "3c4c17ad-f77d-4d14-bf83-936fc0f16c5a",
   "metadata": {
    "language": "sql",
    "name": "check_the_table"
   },
   "outputs": [],
   "source": "select * from flower_details",
   "execution_count": null
  }
 ]
}